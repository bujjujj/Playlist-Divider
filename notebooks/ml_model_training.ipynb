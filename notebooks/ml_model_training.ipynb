{
 "cells": [
  {
   "cell_type": "markdown",
   "id": "d1fb30d3",
   "metadata": {},
   "source": [
    "# PlaylistDivider: \n",
    "A program that uses ML to adapt to each user's definition of a category, then divides the user's playlists into smaller playlists, following those categories, for better organization\n",
    "\n",
    "* Use Spotify API in conjunction with last.fm API (last.fm API doesn't seem to be working, but this project can still be done with getsongbpm api)\n",
    "* Use pandas and np to manipulate and store the data\n",
    "* Use scikit for ML\n",
    "\n",
    "How to scale up:\n",
    " Have a login system, such that the algorithm for each person will have learned what each user defines as 'happy' or 'sad' and will naturally be able to better divide songs for that user"
   ]
  },
  {
   "cell_type": "markdown",
   "id": "20adfb9a",
   "metadata": {},
   "source": [
    "https://getsongbpm.com/api\n",
    "\n",
    "https://www.last.fm/api/account/create\n",
    "https://www.last.fm/music/Sabrina+Carpenter/_/Tears\n",
    "https://listenbrainz.readthedocs.io/en/latest/users/api-compat.html\n",
    "https://www.reddit.com/r/spotifyapi/comments/1ldtwro/track_audio_feature_substitute/\n",
    "https://www.reddit.com/r/spotifyapi/comments/1h75k49/spotifys_api_changes_hurt_developersheres_a/\n",
    "https://developer.spotify.com/blog/2024-11-27-changes-to-the-web-api\n",
    "https://developer.spotify.com/documentation/web-api/reference/get-audio-features\n",
    "\n",
    "https://www.kaggle.com/docs/api#authentication\n",
    "https://www.kaggle.com/settings\n",
    "https://www.kaggle.com/datasets/maharshipandya/-spotify-tracks-dataset\n",
    "https://www.kaggle.com/datasets/conorvaneden/best-songs-on-spotify-for-every-year-2000-2023\n",
    "https://www.kaggle.com/datasets/undefinenull/million-song-dataset-spotify-lastfm\n",
    "\n",
    "https://developer.spotify.com/dashboard/8c862e73e7714036837f2fec988afcda\n",
    "https://developer.spotify.com/documentation/web-api/concepts/access-token\n",
    "https://developer.spotify.com/documentation/web-api/concepts/authorization"
   ]
  },
  {
   "cell_type": "markdown",
   "id": "5abc6713",
   "metadata": {},
   "source": [
    "**This is the model training script**\n",
    "\n",
    "This project is divided into two parts, where this script is for training the model, and the other script is for choosing the playlist to divide and then dividing it."
   ]
  },
  {
   "cell_type": "code",
   "execution_count": 24,
   "id": "67b5f986",
   "metadata": {},
   "outputs": [],
   "source": [
    "import spotipy\n",
    "from spotipy.oauth2 import SpotifyOAuth\n",
    "import pylast\n",
    "import pandas as pd\n",
    "from tqdm import tqdm\n",
    "import time\n",
    "import joblib\n",
    "import os\n",
    "import random\n",
    "import re\n",
    "from sklearn.feature_extraction.text import CountVectorizer\n",
    "from sklearn.naive_bayes import MultinomialNB\n",
    "from sklearn.pipeline import Pipeline\n"
   ]
  },
  {
   "cell_type": "code",
   "execution_count": 18,
   "id": "aa333ec6",
   "metadata": {},
   "outputs": [
    {
     "name": "stdout",
     "output_type": "stream",
     "text": [
      "Connecting to APIs...\n",
      "Successfully connected to Spotify & Last.fm!\n"
     ]
    }
   ],
   "source": [
    "#Authentication\n",
    "SPOTIPY_CLIENT_ID = os.getenv(\"SPOTIPY_CLIENT_ID\")\n",
    "SPOTIPY_CLIENT_SECRET = os.getenv(\"SPOTIPY_CLIENT_SECRET\")\n",
    "SPOTIPY_REDIRECT_URI = os.getenv(\"SPOTIPY_REDIRECT_URI\")\n",
    "\n",
    "LASTFM_API_KEY = os.getenv(\"LASTFM_API_KEY\")\n",
    "LASTFM_API_SECRET = os.getenv(\"LASTFM_API_KEY\")\n",
    "LASTFM_PSWD = os.getenv(\"LASTFM_PSWD\")\n",
    "\n",
    "# To generate your password hash:\n",
    "# password_hash = pylast.md5(\"YourLastFmPassword\")\n",
    "\n",
    "USERNAME = \"bujjujj\"\n",
    "PASSWORD_HASH = pylast.md5(LASTFM_PSWD)\n",
    "\n",
    "# Authenticate with both services\n",
    "print(\"Connecting to APIs...\")\n",
    "try:\n",
    "    sp = spotipy.Spotify(auth_manager=SpotifyOAuth(\n",
    "        client_id=SPOTIPY_CLIENT_ID,\n",
    "        client_secret=SPOTIPY_CLIENT_SECRET,\n",
    "        redirect_uri=SPOTIPY_REDIRECT_URI,\n",
    "        scope=\"playlist-modify-public playlist-read-private\"\n",
    "    ))\n",
    "    user_id = sp.current_user()['id']\n",
    "    network = pylast.LastFMNetwork(api_key=LASTFM_API_KEY, api_secret=LASTFM_API_SECRET)\n",
    "    print(\"Successfully connected to Spotify & Last.fm!\")\n",
    "except Exception as e:\n",
    "    print(f\"Error during authentication: {e}\")\n",
    "    exit()"
   ]
  },
  {
   "cell_type": "code",
   "execution_count": 19,
   "id": "e195f4d0",
   "metadata": {},
   "outputs": [],
   "source": [
    "TRAINING_PLAYLISTS = {\n",
    "    'hiphop-workout': 'spotify:playlist:6nZs9qkLc2Pg6Q2iZOSgbk',\n",
    "    'makeout': 'spotify:playlist:4qZs86VNq1kXaRtCE5lcSr',\n",
    "    'chase': 'spotify:playlist:74s26XHRLZ716UvUj3hL4S',\n",
    "    'lofi-downtempo': 'spotify:playlist:2DRvUsr4TnWlAvFYv5B1xi', #very huge playlist, only take first 450 songs\n",
    "    'instrumental-happy': 'spotify:playlist:3L3ChTfSqTO6QdEfCd7l0s',\n",
    "    'ambient-focus': 'spotify:playlist:70S8eB9yATWo90aQny9oGb', #very huge playlist, only take first 450 songs\n",
    "    'atmospheric-room': 'spotify:playlist:36vNl3AjU4sbCQcsQUOq3K',\n",
    "    'acoustic-guitar': 'spotify:playlist:3ru5tc8HpvzsOklw78rKnf',\n",
    "    'citypop': 'spotify:playlist:5drMgosoieMPSYbq46ugqa',\n",
    "    'feel-good': 'spotify:playlist:4bY71u1Mc66zxbWSmPjBeF',\n",
    "    'edm-club': 'spotify:playlist:2Fl0AxmDN4BPYvgZrtQSZF'\n",
    "}"
   ]
  },
  {
   "cell_type": "code",
   "execution_count": 25,
   "id": "a486b396",
   "metadata": {},
   "outputs": [],
   "source": [
    "# --- 2. Data Collection Functions ---\n",
    "\n",
    "def get_lastfm_features(artist, track_name):\n",
    "    \"\"\"\n",
    "    Cleans search terms and uses Last.fm's search to find the best match\n",
    "    before fetching tags.\n",
    "    \"\"\"\n",
    "    try:\n",
    "        # 1. Clean the track name by removing common extra info\n",
    "        # This removes things like (feat...), (with...), - Remastered, etc.\n",
    "        cleaned_track_name = re.sub(r\"\\(feat\\..*\\)|_feat\\..*|\\(with.*\\)|-.*Remaster.*\", \"\", track_name, flags=re.IGNORECASE).strip()\n",
    "\n",
    "        # 2. Use Last.fm's search function to find the best match\n",
    "        search_results = network.search_for_track(artist, cleaned_track_name)\n",
    "        \n",
    "        # 3. Get the top result from the search\n",
    "        top_result = search_results.get_next_page()[0]\n",
    "        \n",
    "        # 4. Get the tags for that top result\n",
    "        top_tags = top_result.get_top_tags()\n",
    "        \n",
    "        feature_string = \" \".join([tag.item.name.lower().replace(\" \", \"-\") for tag in top_tags for _ in range(int(tag.weight))])\n",
    "        return feature_string\n",
    "    except (IndexError, pylast.WSError):\n",
    "        # IndexError means the search returned no results\n",
    "        # WSError handles other API issues\n",
    "        return \"\"\n",
    "    except Exception:\n",
    "        return \"\"\n",
    "\n",
    "def fetch_training_data(playlists_dict):\n",
    "    \"\"\"Fetches tracks and features for all training playlists with success reporting.\"\"\"\n",
    "    all_tracks_data = []\n",
    "    MAX_SONGS_PER_PLAYLIST = 450\n",
    "    \n",
    "    for label, playlist_id in playlists_dict.items():\n",
    "        print(f\"\\nFetching tracks for '{label}' playlist...\")\n",
    "        \n",
    "        results = sp.playlist_items(playlist_id)\n",
    "        tracks = results['items']\n",
    "        while results['next']:\n",
    "            results = sp.next(results)\n",
    "            tracks.extend(results['items'])\n",
    "        \n",
    "        # --- NEW: Store total tracks before sampling ---\n",
    "        total_tracks_in_playlist = len(tracks)\n",
    "        \n",
    "        if total_tracks_in_playlist > MAX_SONGS_PER_PLAYLIST:\n",
    "            print(f\"Playlist has {total_tracks_in_playlist} songs. Taking a random sample of {MAX_SONGS_PER_PLAYLIST}.\")\n",
    "            tracks = random.sample(tracks, MAX_SONGS_PER_PLAYLIST)\n",
    "        \n",
    "        # --- NEW: Counter for successful fetches ---\n",
    "        successful_fetches = 0\n",
    "        \n",
    "        for item in tqdm(tracks, desc=f\"Processing '{label}'\"):\n",
    "            track = item['track']\n",
    "            if track and track['artists']:\n",
    "                artist = track['artists'][0]['name']\n",
    "                name = track['name']\n",
    "                features = get_lastfm_features(artist, name)\n",
    "                if features:\n",
    "                    all_tracks_data.append({'features': features, 'label': label})\n",
    "                    # --- NEW: Increment counter on success ---\n",
    "                    successful_fetches += 1\n",
    "                time.sleep(0.1)\n",
    "\n",
    "        # --- NEW: Print the summary report for the playlist ---\n",
    "        print(f\"Finished '{label}': Successfully fetched data for {successful_fetches} / {total_tracks_in_playlist} songs considered.\")\n",
    "\n",
    "\n",
    "    return pd.DataFrame(all_tracks_data)"
   ]
  },
  {
   "cell_type": "code",
   "execution_count": 26,
   "id": "d3020348",
   "metadata": {},
   "outputs": [
    {
     "name": "stdout",
     "output_type": "stream",
     "text": [
      "Starting training data collection...\n",
      "\n",
      "Fetching tracks for 'hiphop-workout' playlist...\n"
     ]
    },
    {
     "name": "stderr",
     "output_type": "stream",
     "text": [
      "Processing 'hiphop-workout': 100%|██████████| 432/432 [03:35<00:00,  2.01it/s]\n"
     ]
    },
    {
     "name": "stdout",
     "output_type": "stream",
     "text": [
      "Finished 'hiphop-workout': Successfully fetched data for 151 / 432 songs considered.\n",
      "\n",
      "Fetching tracks for 'makeout' playlist...\n"
     ]
    },
    {
     "name": "stderr",
     "output_type": "stream",
     "text": [
      "Processing 'makeout': 100%|██████████| 252/252 [02:00<00:00,  2.10it/s]\n"
     ]
    },
    {
     "name": "stdout",
     "output_type": "stream",
     "text": [
      "Finished 'makeout': Successfully fetched data for 107 / 252 songs considered.\n",
      "\n",
      "Fetching tracks for 'chase' playlist...\n"
     ]
    },
    {
     "name": "stderr",
     "output_type": "stream",
     "text": [
      "Processing 'chase': 100%|██████████| 252/252 [01:50<00:00,  2.28it/s]\n"
     ]
    },
    {
     "name": "stdout",
     "output_type": "stream",
     "text": [
      "Finished 'chase': Successfully fetched data for 122 / 252 songs considered.\n",
      "\n",
      "Fetching tracks for 'lofi-downtempo' playlist...\n",
      "Playlist has 1243 songs. Taking a random sample of 450.\n"
     ]
    },
    {
     "name": "stderr",
     "output_type": "stream",
     "text": [
      "Processing 'lofi-downtempo': 100%|██████████| 450/450 [03:19<00:00,  2.26it/s]\n"
     ]
    },
    {
     "name": "stdout",
     "output_type": "stream",
     "text": [
      "Finished 'lofi-downtempo': Successfully fetched data for 0 / 1243 songs considered.\n",
      "\n",
      "Fetching tracks for 'instrumental-happy' playlist...\n"
     ]
    },
    {
     "name": "stderr",
     "output_type": "stream",
     "text": [
      "Processing 'instrumental-happy': 100%|██████████| 235/235 [02:01<00:00,  1.93it/s]\n"
     ]
    },
    {
     "name": "stdout",
     "output_type": "stream",
     "text": [
      "Finished 'instrumental-happy': Successfully fetched data for 0 / 235 songs considered.\n",
      "\n",
      "Fetching tracks for 'ambient-focus' playlist...\n",
      "Playlist has 1067 songs. Taking a random sample of 450.\n"
     ]
    },
    {
     "name": "stderr",
     "output_type": "stream",
     "text": [
      "Processing 'ambient-focus': 100%|██████████| 450/450 [03:40<00:00,  2.04it/s]\n"
     ]
    },
    {
     "name": "stdout",
     "output_type": "stream",
     "text": [
      "Finished 'ambient-focus': Successfully fetched data for 0 / 1067 songs considered.\n",
      "\n",
      "Fetching tracks for 'atmospheric-room' playlist...\n"
     ]
    },
    {
     "name": "stderr",
     "output_type": "stream",
     "text": [
      "Processing 'atmospheric-room': 100%|██████████| 200/200 [01:35<00:00,  2.10it/s]\n"
     ]
    },
    {
     "name": "stdout",
     "output_type": "stream",
     "text": [
      "Finished 'atmospheric-room': Successfully fetched data for 29 / 200 songs considered.\n",
      "\n",
      "Fetching tracks for 'acoustic-guitar' playlist...\n"
     ]
    },
    {
     "name": "stderr",
     "output_type": "stream",
     "text": [
      "Processing 'acoustic-guitar': 100%|██████████| 180/180 [01:24<00:00,  2.14it/s]\n"
     ]
    },
    {
     "name": "stdout",
     "output_type": "stream",
     "text": [
      "Finished 'acoustic-guitar': Successfully fetched data for 13 / 180 songs considered.\n",
      "\n",
      "Fetching tracks for 'citypop' playlist...\n"
     ]
    },
    {
     "name": "stderr",
     "output_type": "stream",
     "text": [
      "Processing 'citypop': 100%|██████████| 101/101 [00:44<00:00,  2.28it/s]\n"
     ]
    },
    {
     "name": "stdout",
     "output_type": "stream",
     "text": [
      "Finished 'citypop': Successfully fetched data for 3 / 101 songs considered.\n",
      "\n",
      "Fetching tracks for 'feel-good' playlist...\n"
     ]
    },
    {
     "name": "stderr",
     "output_type": "stream",
     "text": [
      "Processing 'feel-good': 100%|██████████| 408/408 [03:27<00:00,  1.97it/s]\n"
     ]
    },
    {
     "name": "stdout",
     "output_type": "stream",
     "text": [
      "Finished 'feel-good': Successfully fetched data for 97 / 408 songs considered.\n",
      "\n",
      "Fetching tracks for 'edm-club' playlist...\n"
     ]
    },
    {
     "name": "stderr",
     "output_type": "stream",
     "text": [
      "Processing 'edm-club': 100%|██████████| 217/217 [01:52<00:00,  1.92it/s]\n"
     ]
    },
    {
     "name": "stdout",
     "output_type": "stream",
     "text": [
      "Finished 'edm-club': Successfully fetched data for 39 / 217 songs considered.\n",
      "\n",
      "Collected data for 561 songs. Training model...\n",
      "\n",
      "Model training complete!\n",
      "The trained model has been saved to 'song_classifier.joblib'.\n"
     ]
    }
   ],
   "source": [
    "# --- 3. Main Training Logic ---\n",
    "\n",
    "print(\"Starting training data collection...\")\n",
    "df = fetch_training_data(TRAINING_PLAYLISTS)\n",
    "\n",
    "if df.empty:\n",
    "    print(\"\\nNo training data could be collected. Please check your playlist IDs and API keys.\")\n",
    "else:\n",
    "    print(f\"\\nCollected data for {len(df)} songs. Training model...\")\n",
    "    \n",
    "    X = df['features']\n",
    "    y = df['label']\n",
    "    \n",
    "    # Create a machine learning pipeline\n",
    "    # 1. CountVectorizer: Converts the tag string into a vector of word counts\n",
    "    # 2. MultinomialNB: The classifier algorithm\n",
    "    model_pipeline = Pipeline([\n",
    "        ('vectorizer', CountVectorizer()),\n",
    "        ('classifier', MultinomialNB())\n",
    "    ])\n",
    "    \n",
    "    # Train the model\n",
    "    model_pipeline.fit(X, y)\n",
    "    \n",
    "    # Save the trained model to a file\n",
    "    joblib.dump(model_pipeline, 'song_classifier.joblib')\n",
    "    \n",
    "    print(\"\\nModel training complete!\")\n",
    "    print(\"The trained model has been saved to 'song_classifier.joblib'.\")"
   ]
  }
 ],
 "metadata": {
  "kernelspec": {
   "display_name": "Python 3",
   "language": "python",
   "name": "python3"
  },
  "language_info": {
   "codemirror_mode": {
    "name": "ipython",
    "version": 3
   },
   "file_extension": ".py",
   "mimetype": "text/x-python",
   "name": "python",
   "nbconvert_exporter": "python",
   "pygments_lexer": "ipython3",
   "version": "3.13.7"
  }
 },
 "nbformat": 4,
 "nbformat_minor": 5
}
